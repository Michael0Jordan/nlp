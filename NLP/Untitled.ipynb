{
 "cells": [
  {
   "cell_type": "code",
   "execution_count": 2,
   "metadata": {},
   "outputs": [],
   "source": [
    "import jieba\n"
   ]
  },
  {
   "cell_type": "code",
   "execution_count": 30,
   "metadata": {},
   "outputs": [
    {
     "name": "stdout",
     "output_type": "stream",
     "text": [
      "\n",
      "默认模式:我/ 来到/ 北京/ 清华大学\n"
     ]
    }
   ],
   "source": [
    "seg_list = jieba.cut(\"我来到北京清华大学\")  # 默认是精确模式\n",
    "print('\\n默认模式:'+\"/ \".join(seg_list))"
   ]
  },
  {
   "cell_type": "code",
   "execution_count": 4,
   "metadata": {},
   "outputs": [
    {
     "name": "stderr",
     "output_type": "stream",
     "text": [
      "Paddle enabled successfully......\n"
     ]
    }
   ],
   "source": [
    "jieba.enable_paddle()\n"
   ]
  },
  {
   "cell_type": "code",
   "execution_count": 6,
   "metadata": {},
   "outputs": [],
   "source": [
    "import wordcloud"
   ]
  },
  {
   "cell_type": "code",
   "execution_count": 8,
   "metadata": {},
   "outputs": [
    {
     "data": {
      "text/plain": [
       "<wordcloud.wordcloud.WordCloud at 0x203b2a344e0>"
      ]
     },
     "execution_count": 8,
     "metadata": {},
     "output_type": "execute_result"
    }
   ],
   "source": [
    "w = wordcloud.WordCloud()\n",
    "w.generate('and that government of the people, by the people, for the people, shall not perish from the earth.')\n",
    "w.to_file('wordclouds/output1.png')"
   ]
  },
  {
   "cell_type": "code",
   "execution_count": 9,
   "metadata": {},
   "outputs": [],
   "source": [
    "from PIL import Image\n",
    "import matplotlib.pyplot as plt\n",
    "import numpy as np\n"
   ]
  },
  {
   "cell_type": "code",
   "execution_count": 22,
   "metadata": {},
   "outputs": [
    {
     "data": {
      "text/plain": [
       "<matplotlib.image.AxesImage at 0x203b29751d0>"
      ]
     },
     "execution_count": 22,
     "metadata": {},
     "output_type": "execute_result"
    },
    {
     "data": {
      "image/png": "[encoded data removed]",
      "text/plain": [
       "<Figure size 432x288 with 1 Axes>"
      ]
     },
     "metadata": {
      "needs_background": "light"
     },
     "output_type": "display_data"
    }
   ],
   "source": [
    "img=Image.open(\"wordclouds/output1.png\")\n",
    "m=np.asarray(img)\n",
    "# plt.figure(figsize=(18,24))\n",
    "plt.imshow(m)"
   ]
  },
  {
   "cell_type": "code",
   "execution_count": 29,
   "metadata": {},
   "outputs": [
    {
     "ename": "ValueError",
     "evalue": "numpy.ufunc size changed, may indicate binary incompatibility. Expected 216 from C header, got 192 from PyObject",
     "output_type": "error",
     "traceback": [
      "\u001b[1;31m---------------------------------------------------------------------------\u001b[0m",
      "\u001b[1;31mValueError\u001b[0m                                Traceback (most recent call last)",
      "\u001b[1;32m<ipython-input-29-5c1ee7c0c1fe>\u001b[0m in \u001b[0;36m<module>\u001b[1;34m()\u001b[0m\n\u001b[1;32m----> 1\u001b[1;33m \u001b[1;32mimport\u001b[0m \u001b[0mpkuseg\u001b[0m\u001b[1;33m\u001b[0m\u001b[0m\n\u001b[0m",
      "\u001b[1;32mD:\\Anaconda\\lib\\site-packages\\pkuseg\\__init__.py\u001b[0m in \u001b[0;36m<module>\u001b[1;34m()\u001b[0m\n\u001b[0;32m     13\u001b[0m \u001b[1;32mfrom\u001b[0m \u001b[0mmultiprocessing\u001b[0m \u001b[1;32mimport\u001b[0m \u001b[0mProcess\u001b[0m\u001b[1;33m,\u001b[0m \u001b[0mQueue\u001b[0m\u001b[1;33m\u001b[0m\u001b[0m\n\u001b[0;32m     14\u001b[0m \u001b[1;33m\u001b[0m\u001b[0m\n\u001b[1;32m---> 15\u001b[1;33m \u001b[1;32mimport\u001b[0m \u001b[0mpkuseg\u001b[0m\u001b[1;33m.\u001b[0m\u001b[0mtrainer\u001b[0m \u001b[1;32mas\u001b[0m \u001b[0mtrainer\u001b[0m\u001b[1;33m\u001b[0m\u001b[0m\n\u001b[0m\u001b[0;32m     16\u001b[0m \u001b[1;32mimport\u001b[0m \u001b[0mpkuseg\u001b[0m\u001b[1;33m.\u001b[0m\u001b[0minference\u001b[0m \u001b[1;32mas\u001b[0m \u001b[0m_inf\u001b[0m\u001b[1;33m\u001b[0m\u001b[0m\n\u001b[0;32m     17\u001b[0m \u001b[1;33m\u001b[0m\u001b[0m\n",
      "\u001b[1;32mD:\\Anaconda\\lib\\site-packages\\pkuseg\\trainer.py\u001b[0m in \u001b[0;36m<module>\u001b[1;34m()\u001b[0m\n\u001b[0;32m     17\u001b[0m \u001b[1;31m# from .feature_generator import *\u001b[0m\u001b[1;33m\u001b[0m\u001b[1;33m\u001b[0m\u001b[0m\n\u001b[0;32m     18\u001b[0m \u001b[1;32mfrom\u001b[0m \u001b[0mpkuseg\u001b[0m\u001b[1;33m.\u001b[0m\u001b[0mmodel\u001b[0m \u001b[1;32mimport\u001b[0m \u001b[0mModel\u001b[0m\u001b[1;33m\u001b[0m\u001b[0m\n\u001b[1;32m---> 19\u001b[1;33m \u001b[1;32mimport\u001b[0m \u001b[0mpkuseg\u001b[0m\u001b[1;33m.\u001b[0m\u001b[0minference\u001b[0m \u001b[1;32mas\u001b[0m \u001b[0m_inf\u001b[0m\u001b[1;33m\u001b[0m\u001b[0m\n\u001b[0m\u001b[0;32m     20\u001b[0m \u001b[1;33m\u001b[0m\u001b[0m\n\u001b[0;32m     21\u001b[0m \u001b[1;31m# from .inference import *\u001b[0m\u001b[1;33m\u001b[0m\u001b[1;33m\u001b[0m\u001b[0m\n",
      "\u001b[1;32mD:\\Anaconda\\lib\\site-packages\\pkuseg\\inference.pyx\u001b[0m in \u001b[0;36minit pkuseg.inference\u001b[1;34m()\u001b[0m\n",
      "\u001b[1;31mValueError\u001b[0m: numpy.ufunc size changed, may indicate binary incompatibility. Expected 216 from C header, got 192 from PyObject"
     ]
    }
   ],
   "source": [
    "import pkuseg"
   ]
  },
  {
   "cell_type": "code",
   "execution_count": 26,
   "metadata": {},
   "outputs": [
    {
     "ename": "NameError",
     "evalue": "name 'pkuseg' is not defined",
     "output_type": "error",
     "traceback": [
      "\u001b[1;31m---------------------------------------------------------------------------\u001b[0m",
      "\u001b[1;31mNameError\u001b[0m                                 Traceback (most recent call last)",
      "\u001b[1;32m<ipython-input-26-38e2ba1fcfd5>\u001b[0m in \u001b[0;36m<module>\u001b[1;34m()\u001b[0m\n\u001b[0;32m      1\u001b[0m \u001b[0msentence\u001b[0m \u001b[1;33m=\u001b[0m \u001b[1;34m'萨哈夫说，伊拉克将同联合国销毁伊拉克大规模杀伤性武器特别委员会继续保持合作。'\u001b[0m\u001b[1;33m\u001b[0m\u001b[0m\n\u001b[1;32m----> 2\u001b[1;33m \u001b[0mseg\u001b[0m \u001b[1;33m=\u001b[0m \u001b[0mpkuseg\u001b[0m\u001b[1;33m.\u001b[0m\u001b[0mpkuseg\u001b[0m\u001b[1;33m(\u001b[0m\u001b[0mpostag\u001b[0m\u001b[1;33m=\u001b[0m\u001b[1;32mFalse\u001b[0m\u001b[1;33m)\u001b[0m  \u001b[1;31m# 以默认配置加载模型，不进行词性分析\u001b[0m\u001b[1;33m\u001b[0m\u001b[0m\n\u001b[0m\u001b[0;32m      3\u001b[0m \u001b[0msentence\u001b[0m \u001b[1;33m=\u001b[0m \u001b[0mseg\u001b[0m\u001b[1;33m.\u001b[0m\u001b[0mcut\u001b[0m\u001b[1;33m(\u001b[0m\u001b[0msentence\u001b[0m\u001b[1;33m)\u001b[0m  \u001b[1;31m# 进行分词\u001b[0m\u001b[1;33m\u001b[0m\u001b[0m\n\u001b[0;32m      4\u001b[0m \u001b[0mprint\u001b[0m\u001b[1;33m(\u001b[0m\u001b[1;34m' '\u001b[0m\u001b[1;33m.\u001b[0m\u001b[0mjoin\u001b[0m\u001b[1;33m(\u001b[0m\u001b[0msentence\u001b[0m\u001b[1;33m)\u001b[0m\u001b[1;33m)\u001b[0m\u001b[1;33m\u001b[0m\u001b[0m\n",
      "\u001b[1;31mNameError\u001b[0m: name 'pkuseg' is not defined"
     ]
    }
   ],
   "source": [
    "sentence = '萨哈夫说，伊拉克将同联合国销毁伊拉克大规模杀伤性武器特别委员会继续保持合作。'\n",
    "seg = pkuseg.pkuseg(postag=False)  # 以默认配置加载模型，不进行词性分析\n",
    "sentence = seg.cut(sentence)  # 进行分词\n",
    "print(' '.join(sentence))"
   ]
  },
  {
   "cell_type": "code",
   "execution_count": 31,
   "metadata": {},
   "outputs": [
    {
     "name": "stdout",
     "output_type": "stream",
     "text": [
      "0.01\n"
     ]
    }
   ],
   "source": [
    "import jieba\n",
    "from _overlapped import NULL\n",
    "\n",
    "\n",
    "#将句子变为\"BOSxxxxxEOS\"这种形式\n",
    "def reform(sentence):\n",
    "    #如果是以“。”结束的则将“。”删掉\n",
    "    if sentence.endswith(\"。\"):\n",
    "        sentence=sentence[:-1]\n",
    "    #添加起始符BOS和终止符EOS   \n",
    "    sentence_modify1=sentence.replace(\"。\", \"EOSBOS\")\n",
    "    sentence_modify2=\"BOS\"+sentence_modify1+\"EOS\"\n",
    "    return sentence_modify2\n",
    "\n",
    "\n",
    "#分词并统计词频\n",
    "def segmentation(sentence,lists,dicts=NULL):\n",
    "    jieba.suggest_freq(\"BOS\", True)\n",
    "    jieba.suggest_freq(\"EOS\", True)\n",
    "    sentence = jieba.cut(sentence,HMM=False)\n",
    "    format_sentence=\",\".join(sentence)\n",
    "    #将词按\",\"分割后依次填入数组word_list[]\n",
    "    lists=format_sentence.split(\",\")\n",
    "    #统计词频，如果词在字典word_dir{}中出现过则+1，未出现则=1\n",
    "    if dicts!=NULL:\n",
    "        for word in lists:\n",
    "            if word not in dicts:\n",
    "                dicts[word]=1\n",
    "            else:\n",
    "                dicts[word]+=1               \n",
    "    return lists\n",
    "\n",
    "\n",
    "#比较两个数列，二元语法\n",
    "def compareList(ori_list,test_list):\n",
    "    #申请空间\n",
    "    count_list=[0]*(len(test_list))\n",
    "    #遍历测试的字符串\n",
    "    for i in range(0,len(test_list)-1):\n",
    "        #遍历语料字符串，且因为是二元语法，不用比较语料字符串的最后一个字符\n",
    "        for j in range(0,len(ori_list)-2):                \n",
    "            #如果测试的第一个词和语料的第一个词相等则比较第二个词\n",
    "            if test_list[i]==ori_list[j]:\n",
    "                if test_list[i+1]==ori_list[j+1]:\n",
    "                    count_list[i]+=1\n",
    "    return count_list\n",
    "\n",
    "\n",
    "#计算概率    \n",
    "def probability(test_list,count_list,ori_dict):\n",
    "    flag=0\n",
    "    #概率值为p\n",
    "    p=1\n",
    "    for key in test_list: \n",
    "        #数据平滑处理：加1法\n",
    "        p*=(float(count_list[flag]+1)/float(ori_dict[key]+1))\n",
    "        flag+=1\n",
    "    return p\n",
    "\n",
    "\n",
    "if __name__ == \"__main__\":\n",
    "\n",
    "    #语料句子\n",
    "    sentence_ori=\"研究生物很有意思。他大学时代是研究生物的。生物专业是他的首选目标。他是研究生。\"\n",
    "    ori_list=[]\n",
    "    ori_dict={}\n",
    "    sentence_ori_temp=\"\"\n",
    "\n",
    "    #测试句子\n",
    "    sentence_test=\"他是研究生物的\"\n",
    "    sentence_test_temp=\"\" \n",
    "    test_list=[]\n",
    "    count_list=[]\n",
    "    p=0\n",
    "\n",
    "    #分词并将结果存入一个list，词频统计结果存入字典\n",
    "    sentence_ori_temp=reform(sentence_ori)\n",
    "    ori_list=segmentation(sentence_ori_temp,ori_list,ori_dict)\n",
    "\n",
    "    sentence_test_temp=reform(sentence_test)\n",
    "    test_list=segmentation(sentence_test_temp,test_list)\n",
    "\n",
    "    count_list=compareList(ori_list, test_list)\n",
    "    p=probability(test_list,count_list,ori_dict)\n",
    "    print(p)\n",
    "\n"
   ]
  },
  {
   "cell_type": "code",
   "execution_count": null,
   "metadata": {},
   "outputs": [],
   "source": []
  }
 ],
 "metadata": {
  "anaconda-cloud": {},
  "kernelspec": {
   "display_name": "Python 3",
   "language": "python",
   "name": "python3"
  },
  "language_info": {
   "codemirror_mode": {
    "name": "ipython",
    "version": 3
   },
   "file_extension": ".py",
   "mimetype": "text/x-python",
   "name": "python",
   "nbconvert_exporter": "python",
   "pygments_lexer": "ipython3",
   "version": "3.7.0"
  }
 },
 "nbformat": 4,
 "nbformat_minor": 1
}
