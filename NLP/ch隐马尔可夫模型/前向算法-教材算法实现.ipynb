{
 "cells": [
  {
   "cell_type": "code",
   "execution_count": 14,
   "metadata": {},
   "outputs": [
    {
     "data": {
      "text/plain": [
       "'教材：53页例题\\n\\n前向算法\\n https://www.cnblogs.com/gongyanzh/p/12880387.html\\n 前向算法函数：'"
      ]
     },
     "execution_count": 14,
     "metadata": {},
     "output_type": "execute_result"
    }
   ],
   "source": [
    "'''教材：53页例题\n",
    "\n",
    "前向算法\n",
    " https://www.cnblogs.com/gongyanzh/p/12880387.html\n",
    " 前向算法函数：'''"
   ]
  },
  {
   "cell_type": "code",
   "execution_count": 13,
   "metadata": {},
   "outputs": [],
   "source": [
    "def hmm_forward(A,B,pi,O):\n",
    "    T = len(O)#获得数组O的长度\n",
    "    N = len(A[0])#获得状态转移矩阵行数\n",
    "    \n",
    "    #step1 初始化\n",
    "    print(\"=========1.初始化===========\")\n",
    "    alpha = [[0]*T for _ in range(N)]#创建数组，将[0]*T复制了N遍\n",
    "    for i in range(N):#0到N-1\n",
    "        alpha[i][0] = pi[i]*B[i][O[0]]\n",
    "        print('alpha 1 (',i,')=',alpha[i][0])\n",
    "    \n",
    "    #step2 计算alpha(t)\n",
    "    print(\"\\n=========2.递推，对 t=2,3,...,T===========\")\n",
    "    for t in range(1,T):#1到T-1\n",
    "        for i in range(N):\n",
    "            temp = 0\n",
    "            for j in range(N):\n",
    "                temp += alpha[j][t-1]*A[j][i]#状态从j转换到i\n",
    "            alpha[i][t] = temp*B[i][O[t]]\n",
    "            print('alpha',t+1,'(',i,')=',alpha[i][t])\n",
    "        print(\"-------------\")\n",
    "        \n",
    "    #step3\n",
    "    print(\"\\n=========3.求和===========\")\n",
    "    proba = 0\n",
    "    for i in range(N):\n",
    "        proba += alpha[i][-1]#alpha[i][-1]取每行最后一个元素\n",
    "    print(\"alpha = \",proba)\n",
    "    return"
   ]
  },
  {
   "cell_type": "code",
   "execution_count": 5,
   "metadata": {},
   "outputs": [
    {
     "data": {
      "text/plain": [
       "'定义 初始概率矩阵 状态转移矩阵 发射概率矩阵'"
      ]
     },
     "execution_count": 5,
     "metadata": {},
     "output_type": "execute_result"
    }
   ],
   "source": [
    "'''定义 初始概率矩阵 状态转移矩阵 发射概率矩阵'''"
   ]
  },
  {
   "cell_type": "code",
   "execution_count": 6,
   "metadata": {},
   "outputs": [],
   "source": [
    "pi = [0.63,0.17,0.20]                                                  #初始概率矩阵 \n",
    "A = [[0.5,0.375,0.125],[0.25,0.125,0.625],[0.25,0.375,0.375]]          #状态转移矩阵\n",
    "B = [[0.60,0.20,0.15,0.05],[0.25,0.25,0.25,0.25],[0.05,0.10,0.35,0.5]] #发射概率矩阵"
   ]
  },
  {
   "cell_type": "code",
   "execution_count": 7,
   "metadata": {},
   "outputs": [
    {
     "data": {
      "text/plain": [
       "'观察值序列O ：干燥，潮湿，湿透 。'"
      ]
     },
     "execution_count": 7,
     "metadata": {},
     "output_type": "execute_result"
    }
   ],
   "source": [
    "'''观察值序列O ：干燥，潮湿，湿透 。'''"
   ]
  },
  {
   "cell_type": "code",
   "execution_count": 8,
   "metadata": {},
   "outputs": [
    {
     "name": "stdout",
     "output_type": "stream",
     "text": [
      "=========1.初始化===========\n",
      "alpha 1 ( 0 )= 0.378\n",
      "alpha 1 ( 1 )= 0.0425\n",
      "alpha 1 ( 2 )= 0.010000000000000002\n",
      "\n",
      "=========2.递推，对 t=2,3,...,T===========\n",
      "alpha 2 ( 0 )= 0.03031875\n",
      "alpha 2 ( 1 )= 0.037703125\n",
      "alpha 2 ( 2 )= 0.027146875\n",
      "-------------\n",
      "alpha 3 ( 0 )= 0.0015685937499999997\n",
      "alpha 3 ( 1 )= 0.006565625\n",
      "alpha 3 ( 2 )= 0.0187671875\n",
      "-------------\n",
      "\n",
      "=========3.求和===========\n",
      "alpha =  0.026901406250000003\n"
     ]
    }
   ],
   "source": [
    "O = [0,2,3]                                                            #0干燥、1稍干、2潮湿、3湿透\n",
    "hmm_forward(A,B,pi,O)"
   ]
  },
  {
   "cell_type": "code",
   "execution_count": 9,
   "metadata": {},
   "outputs": [
    {
     "data": {
      "text/plain": [
       "'测试多种观察值序列'"
      ]
     },
     "execution_count": 9,
     "metadata": {},
     "output_type": "execute_result"
    }
   ],
   "source": [
    "'''测试多种观察值序列'''"
   ]
  },
  {
   "cell_type": "code",
   "execution_count": 10,
   "metadata": {},
   "outputs": [
    {
     "name": "stdout",
     "output_type": "stream",
     "text": [
      "=========1.初始化===========\n",
      "alpha 1 ( 0 )= 0.378\n",
      "alpha 1 ( 1 )= 0.0425\n",
      "alpha 1 ( 2 )= 0.010000000000000002\n",
      "\n",
      "=========2.递推，对 t=2,3,...,T===========\n",
      "alpha 2 ( 0 )= 0.040425\n",
      "alpha 2 ( 1 )= 0.037703125\n",
      "alpha 2 ( 2 )= 0.007756250000000001\n",
      "-------------\n",
      "alpha 3 ( 0 )= 0.0047366015625\n",
      "alpha 3 ( 1 )= 0.00569521484375\n",
      "alpha 3 ( 2 )= 0.01103416015625\n",
      "-------------\n",
      "alpha 4 ( 0 )= 0.00032753222656250005\n",
      "alpha 4 ( 1 )= 0.001656484375\n",
      "alpha 4 ( 2 )= 0.004144697265625\n",
      "-------------\n",
      "\n",
      "=========3.求和===========\n",
      "alpha =  0.006128713867187501\n"
     ]
    }
   ],
   "source": [
    "O = [0,1,2,3]                                                            #0干燥、1稍干、2潮湿、3湿透\n",
    "hmm_forward(A,B,pi,O)"
   ]
  },
  {
   "cell_type": "code",
   "execution_count": 11,
   "metadata": {},
   "outputs": [
    {
     "name": "stdout",
     "output_type": "stream",
     "text": [
      "=========1.初始化===========\n",
      "alpha 1 ( 0 )= 0.378\n",
      "alpha 1 ( 1 )= 0.0425\n",
      "alpha 1 ( 2 )= 0.010000000000000002\n",
      "\n",
      "=========2.递推，对 t=2,3,...,T===========\n",
      "alpha 2 ( 0 )= 0.040425\n",
      "alpha 2 ( 1 )= 0.037703125\n",
      "alpha 2 ( 2 )= 0.007756250000000001\n",
      "-------------\n",
      "\n",
      "=========3.求和===========\n",
      "alpha =  0.085884375\n"
     ]
    }
   ],
   "source": [
    "\n",
    "O = [0,1]                                                            #0干燥、1稍干、2潮湿、3湿透\n",
    "hmm_forward(A,B,pi,O)"
   ]
  },
  {
   "cell_type": "code",
   "execution_count": 12,
   "metadata": {},
   "outputs": [
    {
     "name": "stdout",
     "output_type": "stream",
     "text": [
      "=========1.初始化===========\n",
      "alpha 1 ( 0 )= 0.378\n",
      "alpha 1 ( 1 )= 0.0425\n",
      "alpha 1 ( 2 )= 0.010000000000000002\n",
      "\n",
      "=========2.递推，对 t=2,3,...,T===========\n",
      "alpha 2 ( 0 )= 0.040425\n",
      "alpha 2 ( 1 )= 0.037703125\n",
      "alpha 2 ( 2 )= 0.007756250000000001\n",
      "-------------\n",
      "alpha 3 ( 0 )= 0.006315468750000001\n",
      "alpha 3 ( 1 )= 0.00569521484375\n",
      "alpha 3 ( 2 )= 0.0031526171875000003\n",
      "-------------\n",
      "alpha 4 ( 0 )= 0.0010739384765625002\n",
      "alpha 4 ( 1 )= 0.0010656085205078126\n",
      "alpha 4 ( 2 )= 0.0005531174316406251\n",
      "-------------\n",
      "alpha 5 ( 0 )= 0.00018833014526367192\n",
      "alpha 5 ( 1 )= 0.00018583675765991215\n",
      "alpha 5 ( 2 )= 0.000100766667175293\n",
      "-------------\n",
      "alpha 6 ( 0 )= 3.316318576812745e-05\n",
      "alpha 6 ( 1 )= 3.2910224843025215e-05\n",
      "alpha 6 ( 2 )= 1.7747674188613897e-05\n",
      "-------------\n",
      "alpha 7 ( 0 )= 5.849213528394701e-06\n",
      "alpha 7 ( 1 )= 5.801337647289039e-06\n",
      "alpha 7 ( 2 )= 3.1369666568636902e-06\n",
      "-------------\n",
      "alpha 8 ( 0 )= 1.0318365680471066e-06\n",
      "alpha 8 ( 1 )= 1.0237461938457567e-06\n",
      "alpha 8 ( 2 )= 5.533350216928871e-07\n",
      "-------------\n",
      "alpha 9 ( 0 )= 1.8203771758164285e-07\n",
      "alpha 9 ( 1 )= 1.806019050958043e-07\n",
      "alpha 9 ( 2 )= 9.763215752943189e-08\n",
      "-------------\n",
      "alpha 10 ( 0 )= 3.21154748894261e-08\n",
      "alpha 10 ( 1 )= 3.186286032590714e-08\n",
      "alpha 10 ( 2 )= 1.7224296445611997e-08\n",
      "-------------\n",
      "alpha 11 ( 0 )= 5.6659053275185665e-09\n",
      "alpha 11 ( 1 )= 5.621317947844419e-09\n",
      "alpha 11 ( 2 )= 3.038783323197472e-09\n",
      "-------------\n",
      "\n",
      "=========3.求和===========\n",
      "alpha =  1.4326006598560457e-08\n"
     ]
    }
   ],
   "source": [
    "O = [0,1,1,1,1,1,1,1,1,1,1]                                                            #0干燥、1稍干、2潮湿、3湿透\n",
    "hmm_forward(A,B,pi,O)"
   ]
  },
  {
   "cell_type": "code",
   "execution_count": 101,
   "metadata": {},
   "outputs": [],
   "source": [
    "def hmm_forward1(A,B,pi,O):\n",
    "    T=len(O)\n",
    "    N=len(A[0])\n",
    "    alpha= [[0]*T for _ in range(N)]\n",
    "    for i in range(N):\n",
    "        alpha[i][0]=pi[i]*B[i][O[0]]\n",
    "        \n",
    "        print('alpha 1','(',i,')=',alpha[i][0])\n",
    "    print('\\n')\n",
    "    \n",
    "    for t in range(1,T):\n",
    "        for i in range(N):\n",
    "            temp=0\n",
    "            for j in range(N):\n",
    "                temp +=alpha[j][t-1]*A[j][i]\n",
    "            alpha[i][t]=temp*B[i][O[t]]\n",
    "            print('alpha',t+1,'(',i,')=',alpha[i][t])\n",
    "        print('\\n')\n",
    "        \n",
    "    sum=0;\n",
    "    for i in range(N):    \n",
    "        sum +=alpha[i][-1]\n",
    "    print(\"sum=\",sum)\n",
    "    return    \n",
    "\n"
   ]
  },
  {
   "cell_type": "code",
   "execution_count": 112,
   "metadata": {},
   "outputs": [
    {
     "name": "stdout",
     "output_type": "stream",
     "text": [
      "alpha 1 ( 0 )= 0.378\n",
      "alpha 1 ( 1 )= 0.0425\n",
      "alpha 1 ( 2 )= 0.010000000000000002\n",
      "\n",
      "\n",
      "alpha 2 ( 0 )= 0.040425\n",
      "alpha 2 ( 1 )= 0.037703125\n",
      "alpha 2 ( 2 )= 0.007756250000000001\n",
      "\n",
      "\n",
      "alpha 3 ( 0 )= 0.0015788671875000002\n",
      "alpha 3 ( 1 )= 0.00569521484375\n",
      "alpha 3 ( 2 )= 0.0157630859375\n",
      "\n",
      "\n",
      "alpha 4 ( 0 )= 0.00030770043945312504\n",
      "alpha 4 ( 1 )= 0.0018037835693359375\n",
      "alpha 4 ( 2 )= 0.0048340124511718745\n",
      "\n",
      "\n",
      "alpha 5 ( 0 )= 0.00027199488372802735\n",
      "alpha 5 ( 1 )= 0.0005384038200378418\n",
      "alpha 5 ( 2 )= 0.001042503684234619\n",
      "\n",
      "\n",
      "alpha 6 ( 0 )= 2.656121589660644e-05\n",
      "alpha 6 ( 1 )= 0.00014005936012268064\n",
      "alpha 6 ( 2 )= 0.00038072031478881836\n",
      "\n",
      "\n",
      "alpha 7 ( 0 )= 7.173776333808898e-06\n",
      "alpha 7 ( 1 )= 4.255949850559234e-05\n",
      "alpha 7 ( 2 )= 0.00011681368505477904\n",
      "\n",
      "\n",
      "alpha 8 ( 0 )= 8.686036811399458e-06\n",
      "alpha 8 ( 1 )= 1.2953808833479881e-05\n",
      "alpha 8 ( 2 )= 7.130154050326347e-06\n",
      "\n",
      "\n",
      "sum= 2.8769999695205684e-05\n"
     ]
    }
   ],
   "source": [
    "pi = [0.63,0.17,0.20]                                                  #初始概率矩阵 \n",
    "A = [[0.5,0.375,0.125],[0.25,0.125,0.625],[0.25,0.375,0.375]]          #状态转移矩阵\n",
    "B = [[0.60,0.20,0.15,0.05],[0.25,0.25,0.25,0.25],[0.05,0.10,0.35,0.5]] #发射概率矩阵\n",
    "O = [0,1,3,3,2,3,3,1]                                                            #0干燥、1稍干、2潮湿、3湿透\n",
    "hmm_forward1(A,B,pi,O)"
   ]
  },
  {
   "cell_type": "code",
   "execution_count": null,
   "metadata": {},
   "outputs": [],
   "source": []
  }
 ],
 "metadata": {
  "kernelspec": {
   "display_name": "Python 3",
   "language": "python",
   "name": "python3"
  },
  "language_info": {
   "codemirror_mode": {
    "name": "ipython",
    "version": 3
   },
   "file_extension": ".py",
   "mimetype": "text/x-python",
   "name": "python",
   "nbconvert_exporter": "python",
   "pygments_lexer": "ipython3",
   "version": "3.7.0"
  }
 },
 "nbformat": 4,
 "nbformat_minor": 2
}
